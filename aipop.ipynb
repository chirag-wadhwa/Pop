{
  "nbformat": 4,
  "nbformat_minor": 0,
  "metadata": {
    "colab": {
      "name": "aipop.ipynb",
      "provenance": [],
      "collapsed_sections": []
    },
    "kernelspec": {
      "name": "python3",
      "display_name": "Python 3"
    },
    "language_info": {
      "name": "python"
    }
  },
  "cells": [
    {
      "cell_type": "code",
      "execution_count": null,
      "metadata": {
        "id": "Ox8dqAWOLuDM"
      },
      "outputs": [],
      "source": [
        "!git clone git@github.com:chirag-wadhwa/Pop.git"
      ]
    },
    {
      "cell_type": "code",
      "source": [
        "import os\n",
        "os.chdir('musicautobot')"
      ],
      "metadata": {
        "id": "4-3r3n_aL075"
      },
      "execution_count": null,
      "outputs": []
    },
    {
      "cell_type": "code",
      "source": [
        "!apt install musescore fluidsynth\n",
        "!cp /usr/share/sounds/sf2/FluidR3_GM.sf2 ./font.sf2"
      ],
      "metadata": {
        "id": "Spj7iL20L3xI"
      },
      "execution_count": null,
      "outputs": []
    },
    {
      "cell_type": "code",
      "source": [
        "!pip install torch fastai music21 pebble fluidsynth midi2audio"
      ],
      "metadata": {
        "id": "2BUCelqbL4Mq"
      },
      "execution_count": null,
      "outputs": []
    },
    {
      "cell_type": "code",
      "source": [
        "from musicautobot.numpy_encode import *\n",
        "from musicautobot.utils.file_processing import process_all, process_file\n",
        "from musicautobot.config import *\n",
        "from musicautobot.music_transformer import *\n",
        "from musicautobot.utils.setup_musescore import setup_musescore\n",
        "setup_musescore()"
      ],
      "metadata": {
        "id": "-AAus4RxL5w7"
      },
      "execution_count": null,
      "outputs": []
    },
    {
      "cell_type": "code",
      "source": [
        "from midi2audio import FluidSynth\n",
        "from IPython.display import Audio"
      ],
      "metadata": {
        "id": "JaI-9nUVL7T4"
      },
      "execution_count": null,
      "outputs": []
    },
    {
      "cell_type": "code",
      "source": [
        "# Colab cannot play music directly from music21 - must convert to .wav first\n",
        "def play_wav(stream):\n",
        "    out_midi = stream.write('midi')\n",
        "    out_wav = str(Path(out_midi).with_suffix('.wav'))\n",
        "    FluidSynth(\"font.sf2\").midi_to_audio(out_midi, out_wav)\n",
        "    return Audio(out_wav)\n"
      ],
      "metadata": {
        "id": "W6JrNJweL8zf"
      },
      "execution_count": null,
      "outputs": []
    },
    {
      "cell_type": "code",
      "source": [
        "# Location of your midi files\n",
        "midi_path =  Path('data/midi/examples')\n",
        "\n",
        "# Location of saved datset\n",
        "data_path = Path('data/numpy')"
      ],
      "metadata": {
        "id": "A99EKiSXL-sR"
      },
      "execution_count": null,
      "outputs": []
    },
    {
      "cell_type": "code",
      "source": [
        "# Data\n",
        "data = MusicDataBunch.empty(data_path)\n",
        "vocab = data.vocab\n",
        "\n",
        "# For Saved Data:\n",
        "# data = load_data(data_path, 'musicitem_data_save.pkl')"
      ],
      "metadata": {
        "id": "ysh4ToIdMAbj"
      },
      "execution_count": null,
      "outputs": []
    },
    {
      "cell_type": "code",
      "source": [
        "# Pretrained Model\n",
        "pretrained_url = 'https://ashaw-midi-web-server.s3-us-west-2.amazonaws.com/pretrained/MusicTransformerKeyC.pth'\n",
        "# pretrained_url = 'https://ashaw-midi-web-server.s3-us-west-2.amazonaws.com/pretrained/MusicTransformer.pth'\n",
        "\n",
        "pretrained_path = data_path/'pretrained'/Path(pretrained_url).name\n",
        "pretrained_path.parent.mkdir(parents=True, exist_ok=True)\n",
        "download_url(pretrained_url, dest=pretrained_path)"
      ],
      "metadata": {
        "id": "43XyKX58MCDU"
      },
      "execution_count": null,
      "outputs": []
    },
    {
      "cell_type": "code",
      "source": [
        "# Learner\n",
        "learn = music_model_learner(data, pretrained_path=pretrained_path)"
      ],
      "metadata": {
        "id": "KBozrfaoMD19"
      },
      "execution_count": null,
      "outputs": []
    },
    {
      "cell_type": "code",
      "source": [
        "# Learner\n",
        "learn = music_model_learner(data, pretrained_path=pretrained_path)"
      ],
      "metadata": {
        "id": "evLzbKt4MGIq"
      },
      "execution_count": null,
      "outputs": []
    },
    {
      "cell_type": "code",
      "source": [
        "idx = 1\n",
        "f = midi_files[idx]; f"
      ],
      "metadata": {
        "id": "oP-8wr8tMIMl"
      },
      "execution_count": null,
      "outputs": []
    },
    {
      "cell_type": "code",
      "source": [
        "cutoff_beat = 10\n",
        "\n",
        "item = MusicItem.from_file(f, data.vocab)\n",
        "seed_item = item.trim_to_beat(cutoff_beat)"
      ],
      "metadata": {
        "id": "UVVD9Vj-MJeQ"
      },
      "execution_count": null,
      "outputs": []
    },
    {
      "cell_type": "code",
      "source": [
        "seed_item.show()"
      ],
      "metadata": {
        "id": "NBaLbzf5MOh9"
      },
      "execution_count": null,
      "outputs": []
    },
    {
      "cell_type": "code",
      "source": [
        "# seed_item.play()\n",
        "play_wav(seed_item.stream)"
      ],
      "metadata": {
        "id": "De44fNepMP_7"
      },
      "execution_count": null,
      "outputs": []
    },
    {
      "cell_type": "code",
      "source": [
        "pred, full = learn.predict(seed_item, n_words=400, temperatures=(1.1,0.4), min_bars=12, top_k=24, top_p=0.7)"
      ],
      "metadata": {
        "id": "PFmsl4K0MRp7"
      },
      "execution_count": null,
      "outputs": []
    },
    {
      "cell_type": "code",
      "source": [
        "pred.show()"
      ],
      "metadata": {
        "id": "ZR090PqZMUS_"
      },
      "execution_count": null,
      "outputs": []
    },
    {
      "cell_type": "code",
      "source": [
        "play_wav(pred.stream)"
      ],
      "metadata": {
        "id": "01PG4mc9MVmj"
      },
      "execution_count": null,
      "outputs": []
    },
    {
      "cell_type": "code",
      "source": [
        "full_song = seed_item.append(pred); full_song.show()"
      ],
      "metadata": {
        "id": "g_lFc1UuMXVn"
      },
      "execution_count": null,
      "outputs": []
    },
    {
      "cell_type": "code",
      "source": [
        "play_wav(full_song.stream)"
      ],
      "metadata": {
        "id": "-HAqRXlVMYoM"
      },
      "execution_count": null,
      "outputs": []
    }
  ]
}